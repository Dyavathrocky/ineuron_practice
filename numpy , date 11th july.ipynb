{
 "cells": [
  {
   "cell_type": "code",
   "execution_count": 2,
   "id": "3cc1496e",
   "metadata": {},
   "outputs": [],
   "source": [
    "import numpy as np"
   ]
  },
  {
   "cell_type": "code",
   "execution_count": 1,
   "id": "fe47226f",
   "metadata": {},
   "outputs": [],
   "source": [
    "import array"
   ]
  },
  {
   "cell_type": "code",
   "execution_count": 5,
   "id": "624f60e1",
   "metadata": {},
   "outputs": [
    {
     "data": {
      "text/plain": [
       "numpy.ndarray"
      ]
     },
     "execution_count": 5,
     "metadata": {},
     "output_type": "execute_result"
    }
   ],
   "source": [
    "type(np.array([1,2,3,5]))"
   ]
  },
  {
   "cell_type": "code",
   "execution_count": 1,
   "metadata": {},
   "outputs": [
    {
     "output_type": "error",
     "ename": "ModuleNotFoundError",
     "evalue": "No module named 'numpy'",
     "traceback": [
      "\u001b[0;31m---------------------------------------------------------------------------\u001b[0m",
      "\u001b[0;31mModuleNotFoundError\u001b[0m                       Traceback (most recent call last)",
      "\u001b[0;32m/tmp/ipykernel_4903/1662815981.py\u001b[0m in \u001b[0;36m<module>\u001b[0;34m\u001b[0m\n\u001b[0;32m----> 1\u001b[0;31m \u001b[0;32mimport\u001b[0m \u001b[0mnumpy\u001b[0m \u001b[0;32mas\u001b[0m \u001b[0mnp\u001b[0m\u001b[0;34m\u001b[0m\u001b[0;34m\u001b[0m\u001b[0m\n\u001b[0m\u001b[1;32m      2\u001b[0m \u001b[0;32mimport\u001b[0m \u001b[0mpandas\u001b[0m \u001b[0;32mas\u001b[0m \u001b[0mpd\u001b[0m\u001b[0;34m\u001b[0m\u001b[0;34m\u001b[0m\u001b[0m\n",
      "\u001b[0;31mModuleNotFoundError\u001b[0m: No module named 'numpy'"
     ]
    }
   ],
   "source": [
    "import numpy as np\n",
    "import pandas as pd"
   ]
  },
  {
   "cell_type": "code",
   "execution_count": 7,
   "id": "9d691709",
   "metadata": {},
   "outputs": [],
   "source": [
    "a = np.array([[[1,3],[3,4]],[[1,3],[3,4]]])"
   ]
  },
  {
   "cell_type": "code",
   "execution_count": 10,
   "id": "f0fd1d48",
   "metadata": {},
   "outputs": [
    {
     "data": {
      "text/plain": [
       "(2, 2, 2)"
      ]
     },
     "execution_count": 10,
     "metadata": {},
     "output_type": "execute_result"
    }
   ],
   "source": [
    "a.shape"
   ]
  },
  {
   "cell_type": "code",
   "execution_count": 11,
   "id": "399c1787",
   "metadata": {},
   "outputs": [
    {
     "data": {
      "text/plain": [
       "<function numpy.lib.utils.who(vardict=None)>"
      ]
     },
     "execution_count": 11,
     "metadata": {},
     "output_type": "execute_result"
    }
   ],
   "source": [
    "np."
   ]
  },
  {
   "cell_type": "code",
   "execution_count": 81,
   "id": "8f0cb1be",
   "metadata": {},
   "outputs": [
    {
     "data": {
      "text/plain": [
       "array([1, 2, 3])"
      ]
     },
     "execution_count": 81,
     "metadata": {},
     "output_type": "execute_result"
    }
   ],
   "source": [
    "np.array([1,2,3])"
   ]
  },
  {
   "cell_type": "code",
   "execution_count": 18,
   "id": "7bbf5976",
   "metadata": {},
   "outputs": [],
   "source": [
    "b = np.mat(np.array([[1,3],[3,4]]))"
   ]
  },
  {
   "cell_type": "code",
   "execution_count": 27,
   "id": "53030cfd",
   "metadata": {},
   "outputs": [],
   "source": [
    "l = (np.array(([1,3],[3,4])))"
   ]
  },
  {
   "cell_type": "code",
   "execution_count": 31,
   "id": "622649f5",
   "metadata": {},
   "outputs": [
    {
     "data": {
      "text/plain": [
       "matrix([[1, 3],\n",
       "        [3, 4]])"
      ]
     },
     "execution_count": 31,
     "metadata": {},
     "output_type": "execute_result"
    }
   ],
   "source": [
    "np.asanyarray(b)"
   ]
  },
  {
   "cell_type": "code",
   "execution_count": 30,
   "id": "7f49e667",
   "metadata": {},
   "outputs": [
    {
     "data": {
      "text/plain": [
       "array([[1, 3],\n",
       "       [3, 4]])"
      ]
     },
     "execution_count": 30,
     "metadata": {},
     "output_type": "execute_result"
    }
   ],
   "source": [
    "np.asarray(b)"
   ]
  },
  {
   "cell_type": "code",
   "execution_count": 32,
   "id": "cb17b4ab",
   "metadata": {},
   "outputs": [
    {
     "data": {
      "text/plain": [
       "True"
      ]
     },
     "execution_count": 32,
     "metadata": {},
     "output_type": "execute_result"
    }
   ],
   "source": [
    "issubclass(np.matrix , np.ndarray)"
   ]
  },
  {
   "cell_type": "code",
   "execution_count": null,
   "id": "5dc22f14",
   "metadata": {},
   "outputs": [],
   "source": []
  },
  {
   "cell_type": "code",
   "execution_count": 36,
   "id": "a08457d3",
   "metadata": {},
   "outputs": [
    {
     "data": {
      "text/plain": [
       "array([[1, 3],\n",
       "       [3, 4]])"
      ]
     },
     "execution_count": 36,
     "metadata": {},
     "output_type": "execute_result"
    }
   ],
   "source": [
    "l"
   ]
  },
  {
   "cell_type": "code",
   "execution_count": 37,
   "id": "650fabc2",
   "metadata": {},
   "outputs": [],
   "source": [
    "a = l"
   ]
  },
  {
   "cell_type": "code",
   "execution_count": 38,
   "id": "79390f0e",
   "metadata": {},
   "outputs": [
    {
     "data": {
      "text/plain": [
       "array([[1, 3],\n",
       "       [3, 4]])"
      ]
     },
     "execution_count": 38,
     "metadata": {},
     "output_type": "execute_result"
    }
   ],
   "source": [
    "a"
   ]
  },
  {
   "cell_type": "code",
   "execution_count": 39,
   "id": "27945c63",
   "metadata": {},
   "outputs": [],
   "source": [
    "b = np.copy(l)"
   ]
  },
  {
   "cell_type": "code",
   "execution_count": 40,
   "id": "6d6a377e",
   "metadata": {},
   "outputs": [
    {
     "data": {
      "text/plain": [
       "array([[1, 3],\n",
       "       [3, 4]])"
      ]
     },
     "execution_count": 40,
     "metadata": {},
     "output_type": "execute_result"
    }
   ],
   "source": [
    "b"
   ]
  },
  {
   "cell_type": "code",
   "execution_count": 41,
   "id": "b9e2ade0",
   "metadata": {},
   "outputs": [],
   "source": [
    "l[0][0]=67"
   ]
  },
  {
   "cell_type": "code",
   "execution_count": 42,
   "id": "eb7d402f",
   "metadata": {},
   "outputs": [
    {
     "data": {
      "text/plain": [
       "array([[67,  3],\n",
       "       [ 3,  4]])"
      ]
     },
     "execution_count": 42,
     "metadata": {},
     "output_type": "execute_result"
    }
   ],
   "source": [
    "l"
   ]
  },
  {
   "cell_type": "code",
   "execution_count": 43,
   "id": "fbd764b2",
   "metadata": {},
   "outputs": [
    {
     "data": {
      "text/plain": [
       "array([[67,  3],\n",
       "       [ 3,  4]])"
      ]
     },
     "execution_count": 43,
     "metadata": {},
     "output_type": "execute_result"
    }
   ],
   "source": [
    "a"
   ]
  },
  {
   "cell_type": "code",
   "execution_count": 44,
   "id": "2df13fec",
   "metadata": {},
   "outputs": [
    {
     "data": {
      "text/plain": [
       "array([[1, 3],\n",
       "       [3, 4]])"
      ]
     },
     "execution_count": 44,
     "metadata": {},
     "output_type": "execute_result"
    }
   ],
   "source": [
    "b"
   ]
  },
  {
   "cell_type": "code",
   "execution_count": 45,
   "id": "fa47bbd7",
   "metadata": {},
   "outputs": [
    {
     "ename": "SyntaxError",
     "evalue": "invalid syntax (<ipython-input-45-d7a8b5febd66>, line 1)",
     "output_type": "error",
     "traceback": [
      "\u001b[0;36m  File \u001b[0;32m\"<ipython-input-45-d7a8b5febd66>\"\u001b[0;36m, line \u001b[0;32m1\u001b[0m\n\u001b[0;31m    1a[-1]\u001b[0m\n\u001b[0m     ^\u001b[0m\n\u001b[0;31mSyntaxError\u001b[0m\u001b[0;31m:\u001b[0m invalid syntax\n"
     ]
    }
   ],
   "source": [
    "1a[-1]"
   ]
  },
  {
   "cell_type": "code",
   "execution_count": 46,
   "id": "7b7dac9a",
   "metadata": {},
   "outputs": [
    {
     "data": {
      "text/plain": [
       "array([3, 4])"
      ]
     },
     "execution_count": 46,
     "metadata": {},
     "output_type": "execute_result"
    }
   ],
   "source": [
    "a[-1]"
   ]
  },
  {
   "cell_type": "code",
   "execution_count": 47,
   "id": "653b2673",
   "metadata": {},
   "outputs": [
    {
     "name": "stdout",
     "output_type": "stream",
     "text": [
      "[67  3]\n",
      "[3 4]\n"
     ]
    }
   ],
   "source": [
    "for i in a :\n",
    "    print(i)"
   ]
  },
  {
   "cell_type": "code",
   "execution_count": 49,
   "id": "d6cdbca0",
   "metadata": {},
   "outputs": [
    {
     "data": {
      "text/plain": [
       "array([[ True, False, False, False],\n",
       "       [False,  True, False, False],\n",
       "       [False, False,  True, False],\n",
       "       [False, False, False,  True]])"
      ]
     },
     "execution_count": 49,
     "metadata": {},
     "output_type": "execute_result"
    }
   ],
   "source": [
    "np.fromfunction(lambda i , j : i==j,(4,4))"
   ]
  },
  {
   "cell_type": "code",
   "execution_count": 50,
   "id": "67b15429",
   "metadata": {},
   "outputs": [
    {
     "data": {
      "text/plain": [
       "array([[0., 0., 0., 0.],\n",
       "       [0., 1., 2., 3.],\n",
       "       [0., 2., 4., 6.],\n",
       "       [0., 3., 6., 9.]])"
      ]
     },
     "execution_count": 50,
     "metadata": {},
     "output_type": "execute_result"
    }
   ],
   "source": [
    "np.fromfunction(lambda i , j : i*j,(4,4))"
   ]
  },
  {
   "cell_type": "code",
   "execution_count": 51,
   "id": "41552a54",
   "metadata": {},
   "outputs": [
    {
     "name": "stderr",
     "output_type": "stream",
     "text": [
      "<ipython-input-51-b2036f6ce812>:1: RuntimeWarning: divide by zero encountered in true_divide\n",
      "  np.fromfunction(lambda i , j : i/j,(4,4))\n",
      "<ipython-input-51-b2036f6ce812>:1: RuntimeWarning: invalid value encountered in true_divide\n",
      "  np.fromfunction(lambda i , j : i/j,(4,4))\n"
     ]
    },
    {
     "data": {
      "text/plain": [
       "array([[       nan, 0.        , 0.        , 0.        ],\n",
       "       [       inf, 1.        , 0.5       , 0.33333333],\n",
       "       [       inf, 2.        , 1.        , 0.66666667],\n",
       "       [       inf, 3.        , 1.5       , 1.        ]])"
      ]
     },
     "execution_count": 51,
     "metadata": {},
     "output_type": "execute_result"
    }
   ],
   "source": [
    "np.fromfunction(lambda i , j : i/j,(4,4))"
   ]
  },
  {
   "cell_type": "code",
   "execution_count": 52,
   "id": "7f001ad7",
   "metadata": {},
   "outputs": [
    {
     "ename": "ZeroDivisionError",
     "evalue": "division by zero",
     "output_type": "error",
     "traceback": [
      "\u001b[0;31m---------------------------------------------------------------------------\u001b[0m",
      "\u001b[0;31mZeroDivisionError\u001b[0m                         Traceback (most recent call last)",
      "\u001b[0;32m<ipython-input-52-9e1622b385b6>\u001b[0m in \u001b[0;36m<module>\u001b[0;34m\u001b[0m\n\u001b[0;32m----> 1\u001b[0;31m \u001b[0;36m1\u001b[0m\u001b[0;34m/\u001b[0m\u001b[0;36m0\u001b[0m\u001b[0;34m\u001b[0m\u001b[0;34m\u001b[0m\u001b[0m\n\u001b[0m",
      "\u001b[0;31mZeroDivisionError\u001b[0m: division by zero"
     ]
    }
   ],
   "source": [
    "1/0"
   ]
  },
  {
   "cell_type": "code",
   "execution_count": 56,
   "id": "5e063db8",
   "metadata": {},
   "outputs": [],
   "source": [
    "gen = (i*i for i in range(5))"
   ]
  },
  {
   "cell_type": "code",
   "execution_count": 54,
   "id": "6ae59e34",
   "metadata": {},
   "outputs": [],
   "source": [
    "def test(x):\n",
    "    yield x"
   ]
  },
  {
   "cell_type": "code",
   "execution_count": 55,
   "id": "11776320",
   "metadata": {},
   "outputs": [
    {
     "data": {
      "text/plain": [
       "<generator object test at 0x7f251cd34ac0>"
      ]
     },
     "execution_count": 55,
     "metadata": {},
     "output_type": "execute_result"
    }
   ],
   "source": [
    "test(5)"
   ]
  },
  {
   "cell_type": "code",
   "execution_count": 59,
   "id": "01e7bdcd",
   "metadata": {},
   "outputs": [
    {
     "data": {
      "text/plain": [
       "array([0, 1, 2, 3, 4])"
      ]
     },
     "execution_count": 59,
     "metadata": {},
     "output_type": "execute_result"
    }
   ],
   "source": [
    "np.fromiter(range(5) , dtype= int)"
   ]
  },
  {
   "cell_type": "code",
   "execution_count": 67,
   "id": "2bb1129d",
   "metadata": {},
   "outputs": [
    {
     "ename": "SyntaxError",
     "evalue": "invalid syntax (<ipython-input-67-6a4f5c5fc64c>, line 1)",
     "output_type": "error",
     "traceback": [
      "\u001b[0;36m  File \u001b[0;32m\"<ipython-input-67-6a4f5c5fc64c>\"\u001b[0;36m, line \u001b[0;32m1\u001b[0m\n\u001b[0;31m    x = np.fromiter(gen(, dtype= int)\u001b[0m\n\u001b[0m                        ^\u001b[0m\n\u001b[0;31mSyntaxError\u001b[0m\u001b[0;31m:\u001b[0m invalid syntax\n"
     ]
    }
   ],
   "source": [
    "x = np.fromiter(gen, dtype= int)"
   ]
  },
  {
   "cell_type": "code",
   "execution_count": 70,
   "id": "638d903b",
   "metadata": {},
   "outputs": [
    {
     "data": {
      "text/plain": [
       "array([1.+0.j, 2.+0.j, 3.+0.j, 4.+0.j, 4.+0.j, 4.+0.j, 4.+0.j])"
      ]
     },
     "execution_count": 70,
     "metadata": {},
     "output_type": "execute_result"
    }
   ],
   "source": [
    "np.fromstring('1,2,3,4,4,4,4', sep = ',', dtype= complex)"
   ]
  },
  {
   "cell_type": "code",
   "execution_count": 71,
   "id": "1444fd8d",
   "metadata": {},
   "outputs": [],
   "source": [
    "l = [3,4,6,6,66,6]"
   ]
  },
  {
   "cell_type": "code",
   "execution_count": 72,
   "id": "841bb2dd",
   "metadata": {},
   "outputs": [],
   "source": [
    "arr = np.array(l)"
   ]
  },
  {
   "cell_type": "code",
   "execution_count": 73,
   "id": "736719a9",
   "metadata": {},
   "outputs": [
    {
     "data": {
      "text/plain": [
       "array([ 3,  4,  6,  6, 66,  6])"
      ]
     },
     "execution_count": 73,
     "metadata": {},
     "output_type": "execute_result"
    }
   ],
   "source": [
    "arr"
   ]
  },
  {
   "cell_type": "code",
   "execution_count": 74,
   "id": "bba8bfbf",
   "metadata": {},
   "outputs": [],
   "source": [
    "arr1 = [[1,2,3,4], [2,3,4,5],[5,6,7,8]]"
   ]
  },
  {
   "cell_type": "code",
   "execution_count": 77,
   "id": "24542cf2",
   "metadata": {},
   "outputs": [],
   "source": [
    "arr1 = np.array(arr1)"
   ]
  },
  {
   "cell_type": "code",
   "execution_count": 78,
   "id": "1e772dd8",
   "metadata": {},
   "outputs": [
    {
     "data": {
      "text/plain": [
       "numpy.ndarray"
      ]
     },
     "execution_count": 78,
     "metadata": {},
     "output_type": "execute_result"
    }
   ],
   "source": [
    "type(arr1)"
   ]
  },
  {
   "cell_type": "code",
   "execution_count": 79,
   "id": "dd47a3ff",
   "metadata": {},
   "outputs": [
    {
     "data": {
      "text/plain": [
       "2"
      ]
     },
     "execution_count": 79,
     "metadata": {},
     "output_type": "execute_result"
    }
   ],
   "source": [
    "arr1.ndim"
   ]
  },
  {
   "cell_type": "code",
   "execution_count": 82,
   "id": "1dbb95c3",
   "metadata": {},
   "outputs": [
    {
     "data": {
      "text/plain": [
       "array([[1, 2, 3, 4],\n",
       "       [2, 3, 4, 5],\n",
       "       [5, 6, 7, 8]])"
      ]
     },
     "execution_count": 82,
     "metadata": {},
     "output_type": "execute_result"
    }
   ],
   "source": [
    "arr1"
   ]
  },
  {
   "cell_type": "code",
   "execution_count": 83,
   "id": "705bd374",
   "metadata": {},
   "outputs": [
    {
     "data": {
      "text/plain": [
       "12"
      ]
     },
     "execution_count": 83,
     "metadata": {},
     "output_type": "execute_result"
    }
   ],
   "source": [
    "arr1.size"
   ]
  },
  {
   "cell_type": "code",
   "execution_count": 84,
   "id": "e19648cd",
   "metadata": {},
   "outputs": [
    {
     "data": {
      "text/plain": [
       "(3, 4)"
      ]
     },
     "execution_count": 84,
     "metadata": {},
     "output_type": "execute_result"
    }
   ],
   "source": [
    "arr1.shape"
   ]
  },
  {
   "cell_type": "code",
   "execution_count": 86,
   "id": "8985965a",
   "metadata": {},
   "outputs": [
    {
     "data": {
      "text/plain": [
       "dtype('int64')"
      ]
     },
     "execution_count": 86,
     "metadata": {},
     "output_type": "execute_result"
    }
   ],
   "source": [
    "arr1.dtype"
   ]
  },
  {
   "cell_type": "code",
   "execution_count": 87,
   "id": "2ff0ac47",
   "metadata": {},
   "outputs": [
    {
     "data": {
      "text/plain": [
       "12"
      ]
     },
     "execution_count": 87,
     "metadata": {},
     "output_type": "execute_result"
    }
   ],
   "source": [
    "arr1.size"
   ]
  },
  {
   "cell_type": "code",
   "execution_count": 89,
   "id": "6ca7841d",
   "metadata": {},
   "outputs": [
    {
     "data": {
      "text/plain": [
       "(6,)"
      ]
     },
     "execution_count": 89,
     "metadata": {},
     "output_type": "execute_result"
    }
   ],
   "source": [
    "arr.shape"
   ]
  },
  {
   "cell_type": "code",
   "execution_count": 95,
   "id": "ab88fe90",
   "metadata": {},
   "outputs": [],
   "source": [
    "arr2 = np.array([[[1,2,3,3],[4,5,6,7]],[[1,2,3,3],[4,5,6,7]]])"
   ]
  },
  {
   "cell_type": "code",
   "execution_count": 96,
   "id": "f3529978",
   "metadata": {},
   "outputs": [
    {
     "data": {
      "text/plain": [
       "array([[[1, 2, 3, 3],\n",
       "        [4, 5, 6, 7]],\n",
       "\n",
       "       [[1, 2, 3, 3],\n",
       "        [4, 5, 6, 7]]])"
      ]
     },
     "execution_count": 96,
     "metadata": {},
     "output_type": "execute_result"
    }
   ],
   "source": [
    "arr2"
   ]
  },
  {
   "cell_type": "code",
   "execution_count": 97,
   "id": "a48dd198",
   "metadata": {},
   "outputs": [
    {
     "data": {
      "text/plain": [
       "16"
      ]
     },
     "execution_count": 97,
     "metadata": {},
     "output_type": "execute_result"
    }
   ],
   "source": [
    "arr2.size"
   ]
  },
  {
   "cell_type": "code",
   "execution_count": 98,
   "id": "44dd174e",
   "metadata": {},
   "outputs": [
    {
     "data": {
      "text/plain": [
       "(2, 2, 4)"
      ]
     },
     "execution_count": 98,
     "metadata": {},
     "output_type": "execute_result"
    }
   ],
   "source": [
    "arr2.shape"
   ]
  },
  {
   "cell_type": "code",
   "execution_count": 99,
   "id": "329c2faa",
   "metadata": {},
   "outputs": [
    {
     "data": {
      "text/plain": [
       "3"
      ]
     },
     "execution_count": 99,
     "metadata": {},
     "output_type": "execute_result"
    }
   ],
   "source": [
    "arr2.ndim"
   ]
  },
  {
   "cell_type": "code",
   "execution_count": 101,
   "id": "08c28890",
   "metadata": {},
   "outputs": [],
   "source": [
    "arr3 = np.array([[[[1,2,3,3],[4,5,6,7]],[[1,2,3,3],[4,5,6,7]],[[1,2,3,3],[4,5,6,7]],[[1,2,3,3],[4,5,6,7]]]])"
   ]
  },
  {
   "cell_type": "markdown",
   "id": "4d443538",
   "metadata": {},
   "source": []
  },
  {
   "cell_type": "code",
   "execution_count": 102,
   "id": "1e10aadd",
   "metadata": {},
   "outputs": [
    {
     "data": {
      "text/plain": [
       "array([[[[1, 2, 3, 3],\n",
       "         [4, 5, 6, 7]],\n",
       "\n",
       "        [[1, 2, 3, 3],\n",
       "         [4, 5, 6, 7]],\n",
       "\n",
       "        [[1, 2, 3, 3],\n",
       "         [4, 5, 6, 7]],\n",
       "\n",
       "        [[1, 2, 3, 3],\n",
       "         [4, 5, 6, 7]]]])"
      ]
     },
     "execution_count": 102,
     "metadata": {},
     "output_type": "execute_result"
    }
   ],
   "source": [
    "arr3"
   ]
  },
  {
   "cell_type": "code",
   "execution_count": 103,
   "id": "0d1eda7b",
   "metadata": {},
   "outputs": [
    {
     "data": {
      "text/plain": [
       "4"
      ]
     },
     "execution_count": 103,
     "metadata": {},
     "output_type": "execute_result"
    }
   ],
   "source": [
    "arr3.ndim"
   ]
  },
  {
   "cell_type": "code",
   "execution_count": 104,
   "id": "ca8d9e7c",
   "metadata": {},
   "outputs": [
    {
     "data": {
      "text/plain": [
       "(1, 4, 2, 4)"
      ]
     },
     "execution_count": 104,
     "metadata": {},
     "output_type": "execute_result"
    }
   ],
   "source": [
    "arr3.shape"
   ]
  },
  {
   "cell_type": "code",
   "execution_count": 105,
   "id": "1f2efe86",
   "metadata": {},
   "outputs": [
    {
     "data": {
      "text/plain": [
       "array([0., 1., 2., 3., 4., 5., 6.])"
      ]
     },
     "execution_count": 105,
     "metadata": {},
     "output_type": "execute_result"
    }
   ],
   "source": [
    "np.arange(6.7)"
   ]
  },
  {
   "cell_type": "code",
   "execution_count": 109,
   "id": "3d728cc7",
   "metadata": {},
   "outputs": [
    {
     "data": {
      "text/plain": [
       "array([ 8.4,  8.7,  9. ,  9.3,  9.6,  9.9, 10.2, 10.5, 10.8])"
      ]
     },
     "execution_count": 109,
     "metadata": {},
     "output_type": "execute_result"
    }
   ],
   "source": [
    "np.arange(8.4, 11,.3)"
   ]
  },
  {
   "cell_type": "code",
   "execution_count": 110,
   "id": "0f2b4e9f",
   "metadata": {},
   "outputs": [
    {
     "data": {
      "text/plain": [
       "array([9. , 8.7, 8.4, 8.1, 7.8, 7.5, 7.2, 6.9, 6.6, 6.3, 6. , 5.7, 5.4,\n",
       "       5.1])"
      ]
     },
     "execution_count": 110,
     "metadata": {},
     "output_type": "execute_result"
    }
   ],
   "source": [
    "np.arange(9, 5 , -0.3)"
   ]
  },
  {
   "cell_type": "code",
   "execution_count": 111,
   "id": "c3fbb21f",
   "metadata": {},
   "outputs": [
    {
     "data": {
      "text/plain": [
       "array([0.1       , 0.10526316, 0.11052632, 0.11578947, 0.12105263,\n",
       "       0.12631579, 0.13157895, 0.13684211, 0.14210526, 0.14736842,\n",
       "       0.15263158, 0.15789474, 0.16315789, 0.16842105, 0.17368421,\n",
       "       0.17894737, 0.18421053, 0.18947368, 0.19473684, 0.2       ])"
      ]
     },
     "execution_count": 111,
     "metadata": {},
     "output_type": "execute_result"
    }
   ],
   "source": [
    "np.linspace(0.1, 0.2 , 20)"
   ]
  },
  {
   "cell_type": "code",
   "execution_count": 115,
   "id": "222d9142",
   "metadata": {},
   "outputs": [
    {
     "data": {
      "text/plain": [
       "array([0.2       , 0.19473684, 0.18947368, 0.18421053, 0.17894737,\n",
       "       0.17368421, 0.16842105, 0.16315789, 0.15789474, 0.15263158,\n",
       "       0.14736842, 0.14210526, 0.13684211, 0.13157895, 0.12631579,\n",
       "       0.12105263, 0.11578947, 0.11052632, 0.10526316, 0.1       ])"
      ]
     },
     "execution_count": 115,
     "metadata": {},
     "output_type": "execute_result"
    }
   ],
   "source": [
    "np.linspace(0.2, 0.1,20)"
   ]
  },
  {
   "cell_type": "code",
   "execution_count": 119,
   "id": "e7da7260",
   "metadata": {
    "scrolled": true
   },
   "outputs": [
    {
     "data": {
      "text/plain": [
       "array([1.        , 1.02040816, 1.04081633, 1.06122449, 1.08163265,\n",
       "       1.10204082, 1.12244898, 1.14285714, 1.16326531, 1.18367347,\n",
       "       1.20408163, 1.2244898 , 1.24489796, 1.26530612, 1.28571429,\n",
       "       1.30612245, 1.32653061, 1.34693878, 1.36734694, 1.3877551 ,\n",
       "       1.40816327, 1.42857143, 1.44897959, 1.46938776, 1.48979592,\n",
       "       1.51020408, 1.53061224, 1.55102041, 1.57142857, 1.59183673,\n",
       "       1.6122449 , 1.63265306, 1.65306122, 1.67346939, 1.69387755,\n",
       "       1.71428571, 1.73469388, 1.75510204, 1.7755102 , 1.79591837,\n",
       "       1.81632653, 1.83673469, 1.85714286, 1.87755102, 1.89795918,\n",
       "       1.91836735, 1.93877551, 1.95918367, 1.97959184, 2.        ])"
      ]
     },
     "execution_count": 119,
     "metadata": {},
     "output_type": "execute_result"
    }
   ],
   "source": [
    "np.linspace(1,2, axis=-1)"
   ]
  },
  {
   "cell_type": "code",
   "execution_count": 120,
   "id": "b32cb9e0",
   "metadata": {},
   "outputs": [
    {
     "data": {
      "text/plain": [
       "array([1.        , 1.02040816, 1.04081633, 1.06122449, 1.08163265,\n",
       "       1.10204082, 1.12244898, 1.14285714, 1.16326531, 1.18367347,\n",
       "       1.20408163, 1.2244898 , 1.24489796, 1.26530612, 1.28571429,\n",
       "       1.30612245, 1.32653061, 1.34693878, 1.36734694, 1.3877551 ,\n",
       "       1.40816327, 1.42857143, 1.44897959, 1.46938776, 1.48979592,\n",
       "       1.51020408, 1.53061224, 1.55102041, 1.57142857, 1.59183673,\n",
       "       1.6122449 , 1.63265306, 1.65306122, 1.67346939, 1.69387755,\n",
       "       1.71428571, 1.73469388, 1.75510204, 1.7755102 , 1.79591837,\n",
       "       1.81632653, 1.83673469, 1.85714286, 1.87755102, 1.89795918,\n",
       "       1.91836735, 1.93877551, 1.95918367, 1.97959184, 2.        ])"
      ]
     },
     "execution_count": 120,
     "metadata": {},
     "output_type": "execute_result"
    }
   ],
   "source": [
    "np.linspace(1,2)"
   ]
  },
  {
   "cell_type": "code",
   "execution_count": 121,
   "id": "c6baf945",
   "metadata": {},
   "outputs": [
    {
     "data": {
      "text/plain": [
       "array([0., 0., 0., 0., 0., 0., 0.])"
      ]
     },
     "execution_count": 121,
     "metadata": {},
     "output_type": "execute_result"
    }
   ],
   "source": [
    "np.zeros(7)"
   ]
  },
  {
   "cell_type": "code",
   "execution_count": 127,
   "id": "a72b6412",
   "metadata": {},
   "outputs": [
    {
     "data": {
      "text/plain": [
       "array([[[0., 0., 0., 0.],\n",
       "        [0., 0., 0., 0.],\n",
       "        [0., 0., 0., 0.],\n",
       "        [0., 0., 0., 0.],\n",
       "        [0., 0., 0., 0.]],\n",
       "\n",
       "       [[0., 0., 0., 0.],\n",
       "        [0., 0., 0., 0.],\n",
       "        [0., 0., 0., 0.],\n",
       "        [0., 0., 0., 0.],\n",
       "        [0., 0., 0., 0.]]])"
      ]
     },
     "execution_count": 127,
     "metadata": {},
     "output_type": "execute_result"
    }
   ],
   "source": [
    "np.zeros((2,5,4))"
   ]
  },
  {
   "cell_type": "code",
   "execution_count": 130,
   "id": "66d7acb2",
   "metadata": {},
   "outputs": [
    {
     "data": {
      "text/plain": [
       "array([[[6., 6., 6., 6.],\n",
       "        [6., 6., 6., 6.],\n",
       "        [6., 6., 6., 6.],\n",
       "        [6., 6., 6., 6.],\n",
       "        [6., 6., 6., 6.]],\n",
       "\n",
       "       [[6., 6., 6., 6.],\n",
       "        [6., 6., 6., 6.],\n",
       "        [6., 6., 6., 6.],\n",
       "        [6., 6., 6., 6.],\n",
       "        [6., 6., 6., 6.]]])"
      ]
     },
     "execution_count": 130,
     "metadata": {},
     "output_type": "execute_result"
    }
   ],
   "source": [
    "np.ones((2,5,4))+5"
   ]
  },
  {
   "cell_type": "code",
   "execution_count": 133,
   "id": "917d775c",
   "metadata": {},
   "outputs": [
    {
     "data": {
      "text/plain": [
       "array([[[0.00000000e+000, 0.00000000e+000, 4.94065646e-324,\n",
       "         4.64654868e-310, 3.26083326e-322, 6.90690769e-310,\n",
       "         6.90690771e-310],\n",
       "        [6.90690769e-310, 6.90690769e-310, 6.90690769e-310,\n",
       "         6.90690772e-310, 6.90690770e-310, 6.90690769e-310,\n",
       "         6.90690771e-310],\n",
       "        [6.90690811e-310, 6.90690820e-310, 6.90690769e-310,\n",
       "         6.90690771e-310, 6.90690768e-310, 6.90690787e-310,\n",
       "         6.90690768e-310],\n",
       "        [6.90690776e-310, 6.90690776e-310, 6.90690771e-310,\n",
       "         6.90690773e-310, 6.90690771e-310, 6.90690769e-310,\n",
       "         6.90690772e-310],\n",
       "        [6.90690769e-310, 6.90690769e-310, 6.90690769e-310,\n",
       "         6.90690766e-310, 6.90690766e-310, 6.90690770e-310,\n",
       "         6.90690766e-310]],\n",
       "\n",
       "       [[6.90690766e-310, 6.90690766e-310, 6.90690766e-310,\n",
       "         6.90690766e-310, 6.90690784e-310, 6.90690772e-310,\n",
       "         6.90690772e-310],\n",
       "        [6.90690772e-310, 6.90690772e-310, 6.90690772e-310,\n",
       "         6.90690772e-310, 6.90690771e-310, 6.90690771e-310,\n",
       "         6.90690771e-310],\n",
       "        [6.90690769e-310, 6.90690771e-310, 6.90690771e-310,\n",
       "         6.90690771e-310, 6.90690771e-310, 6.90690771e-310,\n",
       "         6.90690771e-310],\n",
       "        [6.90690771e-310, 6.90690771e-310, 6.90690771e-310,\n",
       "         6.90690776e-310, 6.90690770e-310, 6.90690771e-310,\n",
       "         6.90690771e-310],\n",
       "        [6.90690771e-310, 6.90690771e-310, 6.90690771e-310,\n",
       "         6.90690771e-310, 6.90690824e-310, 6.90690770e-310,\n",
       "         6.90690770e-310]]])"
      ]
     },
     "execution_count": 133,
     "metadata": {},
     "output_type": "execute_result"
    }
   ],
   "source": [
    "np.empty((2,5,7))"
   ]
  },
  {
   "cell_type": "code",
   "execution_count": 135,
   "id": "e0b0e105",
   "metadata": {},
   "outputs": [
    {
     "data": {
      "text/plain": [
       "array([[1., 0., 0.],\n",
       "       [0., 1., 0.],\n",
       "       [0., 0., 1.]])"
      ]
     },
     "execution_count": 135,
     "metadata": {},
     "output_type": "execute_result"
    }
   ],
   "source": [
    "np.eye(3)"
   ]
  },
  {
   "cell_type": "code",
   "execution_count": 146,
   "id": "af816730",
   "metadata": {},
   "outputs": [
    {
     "data": {
      "text/plain": [
       "array([[1.  , 8.  ],\n",
       "       [1.  , 7.86],\n",
       "       [1.  , 7.72],\n",
       "       [1.  , 7.58],\n",
       "       [1.  , 7.44],\n",
       "       [1.  , 7.3 ],\n",
       "       [1.  , 7.16],\n",
       "       [1.  , 7.02],\n",
       "       [1.  , 6.88],\n",
       "       [1.  , 6.74],\n",
       "       [1.  , 6.6 ],\n",
       "       [1.  , 6.46],\n",
       "       [1.  , 6.32],\n",
       "       [1.  , 6.18],\n",
       "       [1.  , 6.04],\n",
       "       [1.  , 5.9 ],\n",
       "       [1.  , 5.76],\n",
       "       [1.  , 5.62],\n",
       "       [1.  , 5.48],\n",
       "       [1.  , 5.34],\n",
       "       [1.  , 5.2 ],\n",
       "       [1.  , 5.06],\n",
       "       [1.  , 4.92],\n",
       "       [1.  , 4.78],\n",
       "       [1.  , 4.64],\n",
       "       [1.  , 4.5 ],\n",
       "       [1.  , 4.36],\n",
       "       [1.  , 4.22],\n",
       "       [1.  , 4.08],\n",
       "       [1.  , 3.94],\n",
       "       [1.  , 3.8 ],\n",
       "       [1.  , 3.66],\n",
       "       [1.  , 3.52],\n",
       "       [1.  , 3.38],\n",
       "       [1.  , 3.24],\n",
       "       [1.  , 3.1 ],\n",
       "       [1.  , 2.96],\n",
       "       [1.  , 2.82],\n",
       "       [1.  , 2.68],\n",
       "       [1.  , 2.54],\n",
       "       [1.  , 2.4 ],\n",
       "       [1.  , 2.26],\n",
       "       [1.  , 2.12],\n",
       "       [1.  , 1.98],\n",
       "       [1.  , 1.84],\n",
       "       [1.  , 1.7 ],\n",
       "       [1.  , 1.56],\n",
       "       [1.  , 1.42],\n",
       "       [1.  , 1.28],\n",
       "       [1.  , 1.14]])"
      ]
     },
     "execution_count": 146,
     "metadata": {},
     "output_type": "execute_result"
    }
   ],
   "source": [
    "np.linspace([1,8],1, endpoint=False, axis=0)"
   ]
  },
  {
   "cell_type": "code",
   "execution_count": 150,
   "id": "42466ec5",
   "metadata": {},
   "outputs": [
    {
     "data": {
      "text/plain": [
       "array([[1.00000000e+02, 1.15139540e+02, 1.32571137e+02, 1.52641797e+02,\n",
       "        1.75751062e+02, 2.02358965e+02, 2.32995181e+02, 2.68269580e+02,\n",
       "        3.08884360e+02, 3.55648031e+02, 4.09491506e+02, 4.71486636e+02,\n",
       "        5.42867544e+02, 6.25055193e+02, 7.19685673e+02, 8.28642773e+02,\n",
       "        9.54095476e+02, 1.09854114e+03, 1.26485522e+03, 1.45634848e+03,\n",
       "        1.67683294e+03, 1.93069773e+03, 2.22299648e+03, 2.55954792e+03,\n",
       "        2.94705170e+03, 3.39322177e+03, 3.90693994e+03, 4.49843267e+03,\n",
       "        5.17947468e+03, 5.96362332e+03, 6.86648845e+03, 7.90604321e+03,\n",
       "        9.10298178e+03, 1.04811313e+04, 1.20679264e+04, 1.38949549e+04,\n",
       "        1.59985872e+04, 1.84206997e+04, 2.12095089e+04, 2.44205309e+04,\n",
       "        2.81176870e+04, 3.23745754e+04, 3.72759372e+04, 4.29193426e+04,\n",
       "        4.94171336e+04, 5.68986603e+04, 6.55128557e+04, 7.54312006e+04,\n",
       "        8.68511374e+04, 1.00000000e+05],\n",
       "       [1.00000000e+06, 9.54095476e+05, 9.10298178e+05, 8.68511374e+05,\n",
       "        8.28642773e+05, 7.90604321e+05, 7.54312006e+05, 7.19685673e+05,\n",
       "        6.86648845e+05, 6.55128557e+05, 6.25055193e+05, 5.96362332e+05,\n",
       "        5.68986603e+05, 5.42867544e+05, 5.17947468e+05, 4.94171336e+05,\n",
       "        4.71486636e+05, 4.49843267e+05, 4.29193426e+05, 4.09491506e+05,\n",
       "        3.90693994e+05, 3.72759372e+05, 3.55648031e+05, 3.39322177e+05,\n",
       "        3.23745754e+05, 3.08884360e+05, 2.94705170e+05, 2.81176870e+05,\n",
       "        2.68269580e+05, 2.55954792e+05, 2.44205309e+05, 2.32995181e+05,\n",
       "        2.22299648e+05, 2.12095089e+05, 2.02358965e+05, 1.93069773e+05,\n",
       "        1.84206997e+05, 1.75751062e+05, 1.67683294e+05, 1.59985872e+05,\n",
       "        1.52641797e+05, 1.45634848e+05, 1.38949549e+05, 1.32571137e+05,\n",
       "        1.26485522e+05, 1.20679264e+05, 1.15139540e+05, 1.09854114e+05,\n",
       "        1.04811313e+05, 1.00000000e+05]])"
      ]
     },
     "execution_count": 150,
     "metadata": {},
     "output_type": "execute_result"
    }
   ],
   "source": [
    "np.logspace([2,6],5,axis=1)"
   ]
  },
  {
   "cell_type": "code",
   "execution_count": 151,
   "id": "d0b591d3",
   "metadata": {},
   "outputs": [],
   "source": [
    "d = np.linspace(4,7 , 40)"
   ]
  },
  {
   "cell_type": "code",
   "execution_count": 152,
   "id": "eb228f11",
   "metadata": {},
   "outputs": [
    {
     "data": {
      "text/plain": [
       "array([4.        , 4.07692308, 4.15384615, 4.23076923, 4.30769231,\n",
       "       4.38461538, 4.46153846, 4.53846154, 4.61538462, 4.69230769,\n",
       "       4.76923077, 4.84615385, 4.92307692, 5.        , 5.07692308,\n",
       "       5.15384615, 5.23076923, 5.30769231, 5.38461538, 5.46153846,\n",
       "       5.53846154, 5.61538462, 5.69230769, 5.76923077, 5.84615385,\n",
       "       5.92307692, 6.        , 6.07692308, 6.15384615, 6.23076923,\n",
       "       6.30769231, 6.38461538, 6.46153846, 6.53846154, 6.61538462,\n",
       "       6.69230769, 6.76923077, 6.84615385, 6.92307692, 7.        ])"
      ]
     },
     "execution_count": 152,
     "metadata": {},
     "output_type": "execute_result"
    }
   ],
   "source": []
  },
  {
   "cell_type": "code",
   "execution_count": 153,
   "id": "eecf49d7",
   "metadata": {},
   "outputs": [
    {
     "data": {
      "text/plain": [
       "1"
      ]
     },
     "execution_count": 153,
     "metadata": {},
     "output_type": "execute_result"
    }
   ],
   "source": [
    "d.ndim"
   ]
  },
  {
   "cell_type": "code",
   "execution_count": 154,
   "id": "73b181dd",
   "metadata": {},
   "outputs": [
    {
     "data": {
      "text/plain": [
       "(40,)"
      ]
     },
     "execution_count": 154,
     "metadata": {},
     "output_type": "execute_result"
    }
   ],
   "source": [
    "d.shape"
   ]
  },
  {
   "cell_type": "code",
   "execution_count": 156,
   "id": "dafb04e8",
   "metadata": {},
   "outputs": [],
   "source": [
    "e = d.reshape(8,5)"
   ]
  },
  {
   "cell_type": "code",
   "execution_count": 164,
   "id": "0c32e800",
   "metadata": {},
   "outputs": [
    {
     "data": {
      "text/plain": [
       "array([[[4.        , 4.07692308, 4.15384615, 4.23076923, 4.30769231,\n",
       "         4.38461538, 4.46153846, 4.53846154, 4.61538462, 4.69230769],\n",
       "        [4.76923077, 4.84615385, 4.92307692, 5.        , 5.07692308,\n",
       "         5.15384615, 5.23076923, 5.30769231, 5.38461538, 5.46153846],\n",
       "        [5.53846154, 5.61538462, 5.69230769, 5.76923077, 5.84615385,\n",
       "         5.92307692, 6.        , 6.07692308, 6.15384615, 6.23076923],\n",
       "        [6.30769231, 6.38461538, 6.46153846, 6.53846154, 6.61538462,\n",
       "         6.69230769, 6.76923077, 6.84615385, 6.92307692, 7.        ]]])"
      ]
     },
     "execution_count": 164,
     "metadata": {},
     "output_type": "execute_result"
    }
   ],
   "source": [
    "e.reshape(1,4,10)"
   ]
  },
  {
   "cell_type": "code",
   "execution_count": 4,
   "id": "53fd60e3",
   "metadata": {},
   "outputs": [
    {
     "data": {
      "text/plain": [
       "array([0.0010169 , 0.60013749, 0.2502217 ])"
      ]
     },
     "execution_count": 4,
     "metadata": {},
     "output_type": "execute_result"
    }
   ],
   "source": [
    "np.random.rand(3)"
   ]
  },
  {
   "cell_type": "code",
   "execution_count": 5,
   "id": "79fd68b7",
   "metadata": {},
   "outputs": [
    {
     "data": {
      "text/plain": [
       "array([ 0.09242002, -1.13963289, -0.71930434,  1.42274804,  1.25994893,\n",
       "        0.87256692])"
      ]
     },
     "execution_count": 5,
     "metadata": {},
     "output_type": "execute_result"
    }
   ],
   "source": [
    "np.random.randn(6)"
   ]
  },
  {
   "cell_type": "code",
   "execution_count": 8,
   "id": "90ad6884",
   "metadata": {},
   "outputs": [
    {
     "data": {
      "text/plain": [
       "array([[[-1.97022558, -0.37891126,  0.39487424, -0.09656566],\n",
       "        [ 0.06853609, -1.05379933, -1.42035122, -1.4787761 ]],\n",
       "\n",
       "       [[ 0.01555588,  0.23718388,  1.03025685,  1.15605645],\n",
       "        [-0.08149601, -0.35497914, -0.85874418, -0.11483618]]])"
      ]
     },
     "execution_count": 8,
     "metadata": {},
     "output_type": "execute_result"
    }
   ],
   "source": [
    "np.random.randn(2,2,4)"
   ]
  },
  {
   "cell_type": "code",
   "execution_count": 12,
   "id": "cc85974c",
   "metadata": {},
   "outputs": [
    {
     "data": {
      "text/plain": [
       "914"
      ]
     },
     "execution_count": 12,
     "metadata": {},
     "output_type": "execute_result"
    }
   ],
   "source": [
    "np.random.randint(999)"
   ]
  },
  {
   "cell_type": "code",
   "execution_count": 13,
   "id": "05f0ab8a",
   "metadata": {},
   "outputs": [
    {
     "data": {
      "text/plain": [
       "array([[69, 35, 23,  6],\n",
       "       [41, 76, 44, 73],\n",
       "       [53, 37, 80, 37],\n",
       "       [24, 60, 11, 10]])"
      ]
     },
     "execution_count": 13,
     "metadata": {},
     "output_type": "execute_result"
    }
   ],
   "source": [
    "np.random.randint(5,90,(4,4))"
   ]
  },
  {
   "cell_type": "code",
   "execution_count": 15,
   "id": "729dc973",
   "metadata": {},
   "outputs": [],
   "source": [
    "ar = np.random.randint(3,9 , (3,3))"
   ]
  },
  {
   "cell_type": "code",
   "execution_count": 16,
   "id": "f39c4d4b",
   "metadata": {},
   "outputs": [
    {
     "data": {
      "text/plain": [
       "(3, 3)"
      ]
     },
     "execution_count": 16,
     "metadata": {},
     "output_type": "execute_result"
    }
   ],
   "source": [
    "ar.shape"
   ]
  },
  {
   "cell_type": "code",
   "execution_count": 17,
   "id": "2d8ad863",
   "metadata": {},
   "outputs": [
    {
     "data": {
      "text/plain": [
       "9"
      ]
     },
     "execution_count": 17,
     "metadata": {},
     "output_type": "execute_result"
    }
   ],
   "source": [
    "ar.size"
   ]
  },
  {
   "cell_type": "code",
   "execution_count": 18,
   "id": "99104d5b",
   "metadata": {},
   "outputs": [
    {
     "data": {
      "text/plain": [
       "array([[7, 4, 8, 5, 5, 5, 4, 4, 5]])"
      ]
     },
     "execution_count": 18,
     "metadata": {},
     "output_type": "execute_result"
    }
   ],
   "source": [
    "ar.reshape(1,9)"
   ]
  },
  {
   "cell_type": "code",
   "execution_count": 19,
   "id": "ec8c75be",
   "metadata": {},
   "outputs": [
    {
     "data": {
      "text/plain": [
       "array([[7],\n",
       "       [4],\n",
       "       [8],\n",
       "       [5],\n",
       "       [5],\n",
       "       [5],\n",
       "       [4],\n",
       "       [4],\n",
       "       [5]])"
      ]
     },
     "execution_count": 19,
     "metadata": {},
     "output_type": "execute_result"
    }
   ],
   "source": [
    "ar.reshape(9,1)"
   ]
  },
  {
   "cell_type": "code",
   "execution_count": 20,
   "id": "0b8093d5",
   "metadata": {},
   "outputs": [
    {
     "data": {
      "text/plain": [
       "array([[[7, 4, 8, 5, 5, 5, 4, 4, 5]]])"
      ]
     },
     "execution_count": 20,
     "metadata": {},
     "output_type": "execute_result"
    }
   ],
   "source": [
    "ar.reshape(1,1,9)"
   ]
  },
  {
   "cell_type": "code",
   "execution_count": 45,
   "id": "30a77953",
   "metadata": {},
   "outputs": [],
   "source": [
    "x = np.random.randint(4,100, (5,5))"
   ]
  },
  {
   "cell_type": "code",
   "execution_count": 44,
   "id": "c63ccf1e",
   "metadata": {},
   "outputs": [
    {
     "data": {
      "text/plain": [
       "matrix([[56,  8, 22, 51, 54],\n",
       "        [62, 63, 51, 77, 47],\n",
       "        [29, 22, 46, 11, 93],\n",
       "        [97, 53, 59, 11, 15],\n",
       "        [94, 75, 88, 74, 24]])"
      ]
     },
     "execution_count": 44,
     "metadata": {},
     "output_type": "execute_result"
    }
   ],
   "source": [
    "x"
   ]
  },
  {
   "cell_type": "code",
   "execution_count": 25,
   "id": "0d750859",
   "metadata": {},
   "outputs": [
    {
     "data": {
      "text/plain": [
       "array([[11, 15],\n",
       "       [74, 24]])"
      ]
     },
     "execution_count": 25,
     "metadata": {},
     "output_type": "execute_result"
    }
   ],
   "source": [
    "x[3:,3:]"
   ]
  },
  {
   "cell_type": "code",
   "execution_count": 29,
   "id": "89f93cd6",
   "metadata": {},
   "outputs": [
    {
     "data": {
      "text/plain": [
       "array([[ 8, 51],\n",
       "       [63, 77],\n",
       "       [22, 11],\n",
       "       [53, 11],\n",
       "       [75, 74]])"
      ]
     },
     "execution_count": 29,
     "metadata": {},
     "output_type": "execute_result"
    }
   ],
   "source": [
    "x[:,[1,3]]"
   ]
  },
  {
   "cell_type": "code",
   "execution_count": 30,
   "id": "c4a3aa48",
   "metadata": {},
   "outputs": [
    {
     "data": {
      "text/plain": [
       "array([[62, 63, 51, 77, 47],\n",
       "       [97, 53, 59, 11, 15]])"
      ]
     },
     "execution_count": 30,
     "metadata": {},
     "output_type": "execute_result"
    }
   ],
   "source": [
    "x[[1,3],:]"
   ]
  },
  {
   "cell_type": "code",
   "execution_count": 32,
   "id": "4f178083",
   "metadata": {},
   "outputs": [
    {
     "data": {
      "text/plain": [
       "array([56, 51, 54, 62, 63, 51, 77, 93, 97, 53, 59, 94, 75, 88, 74])"
      ]
     },
     "execution_count": 32,
     "metadata": {},
     "output_type": "execute_result"
    }
   ],
   "source": [
    "x[x>50]"
   ]
  },
  {
   "cell_type": "code",
   "execution_count": 33,
   "id": "fed32fa0",
   "metadata": {},
   "outputs": [
    {
     "data": {
      "text/plain": [
       "array([[3136,   64,  484, 2601, 2916],\n",
       "       [3844, 3969, 2601, 5929, 2209],\n",
       "       [ 841,  484, 2116,  121, 8649],\n",
       "       [9409, 2809, 3481,  121,  225],\n",
       "       [8836, 5625, 7744, 5476,  576]])"
      ]
     },
     "execution_count": 33,
     "metadata": {},
     "output_type": "execute_result"
    }
   ],
   "source": [
    "x*x"
   ]
  },
  {
   "cell_type": "code",
   "execution_count": 38,
   "id": "e504ecdc",
   "metadata": {},
   "outputs": [
    {
     "data": {
      "text/plain": [
       "array([[3136,   64,  484, 2601, 2916],\n",
       "       [3844, 3969, 2601, 5929, 2209],\n",
       "       [ 841,  484, 2116,  121, 8649],\n",
       "       [9409, 2809, 3481,  121,  225],\n",
       "       [8836, 5625, 7744, 5476,  576]])"
      ]
     },
     "execution_count": 38,
     "metadata": {},
     "output_type": "execute_result"
    }
   ],
   "source": [
    "x"
   ]
  },
  {
   "cell_type": "code",
   "execution_count": 39,
   "id": "8cfd97e4",
   "metadata": {},
   "outputs": [
    {
     "data": {
      "text/plain": [
       "array([[56,  8, 22, 51, 54],\n",
       "       [62, 63, 51, 77, 47],\n",
       "       [29, 22, 46, 11, 93],\n",
       "       [97, 53, 59, 11, 15],\n",
       "       [94, 75, 88, 74, 24]])"
      ]
     },
     "execution_count": 39,
     "metadata": {},
     "output_type": "execute_result"
    }
   ],
   "source": [
    "x"
   ]
  },
  {
   "cell_type": "code",
   "execution_count": 40,
   "id": "c9063d66",
   "metadata": {},
   "outputs": [],
   "source": [
    "x = np.mat(x)"
   ]
  },
  {
   "cell_type": "code",
   "execution_count": 41,
   "id": "ba787a96",
   "metadata": {},
   "outputs": [
    {
     "data": {
      "text/plain": [
       "numpy.matrix"
      ]
     },
     "execution_count": 41,
     "metadata": {},
     "output_type": "execute_result"
    }
   ],
   "source": [
    "type(x)"
   ]
  },
  {
   "cell_type": "code",
   "execution_count": 42,
   "id": "ca5e651d",
   "metadata": {},
   "outputs": [
    {
     "data": {
      "text/plain": [
       "matrix([[14293,  8189, 10413,  8271,  7507],\n",
       "        [20744, 13193, 15602, 12899, 13335],\n",
       "        [14131, 10188, 12709, 10682,  9275],\n",
       "        [12906,  7121,  9520, 10908, 13741],\n",
       "        [21900, 13135, 16419, 14127, 18471]])"
      ]
     },
     "execution_count": 42,
     "metadata": {},
     "output_type": "execute_result"
    }
   ],
   "source": [
    "x*x"
   ]
  },
  {
   "cell_type": "code",
   "execution_count": 46,
   "id": "7fbadccd",
   "metadata": {},
   "outputs": [
    {
     "data": {
      "text/plain": [
       "array([[18798,  8775, 15545, 12282, 18105],\n",
       "       [10116,  8184, 12992,  8042, 15296],\n",
       "       [15841, 10676, 10863, 12762, 14385],\n",
       "       [20166, 12200, 12779, 14835, 13481],\n",
       "       [12481,  7191, 12035,  7305, 12571]])"
      ]
     },
     "execution_count": 46,
     "metadata": {},
     "output_type": "execute_result"
    }
   ],
   "source": [
    "x@x"
   ]
  },
  {
   "cell_type": "code",
   "execution_count": 47,
   "id": "e14eec0a",
   "metadata": {},
   "outputs": [
    {
     "data": {
      "text/plain": [
       "array([[85, 44, 23, 86, 41],\n",
       "       [ 7, 53, 45, 33, 93],\n",
       "       [95, 58, 46, 26, 26],\n",
       "       [97,  4, 96, 13, 84],\n",
       "       [18, 25, 56, 44, 66]])"
      ]
     },
     "execution_count": 47,
     "metadata": {},
     "output_type": "execute_result"
    }
   ],
   "source": [
    "x"
   ]
  },
  {
   "cell_type": "code",
   "execution_count": 48,
   "id": "94abdf54",
   "metadata": {},
   "outputs": [
    {
     "data": {
      "text/plain": [
       "array([[7225, 1936,  529, 7396, 1681],\n",
       "       [  49, 2809, 2025, 1089, 8649],\n",
       "       [9025, 3364, 2116,  676,  676],\n",
       "       [9409,   16, 9216,  169, 7056],\n",
       "       [ 324,  625, 3136, 1936, 4356]])"
      ]
     },
     "execution_count": 48,
     "metadata": {},
     "output_type": "execute_result"
    }
   ],
   "source": [
    "x*x"
   ]
  },
  {
   "cell_type": "code",
   "execution_count": 49,
   "id": "2ed53cb6",
   "metadata": {},
   "outputs": [
    {
     "name": "stderr",
     "output_type": "stream",
     "text": [
      "<ipython-input-49-034eb0c6102b>:1: RuntimeWarning: divide by zero encountered in true_divide\n",
      "  x/0\n"
     ]
    },
    {
     "data": {
      "text/plain": [
       "array([[inf, inf, inf, inf, inf],\n",
       "       [inf, inf, inf, inf, inf],\n",
       "       [inf, inf, inf, inf, inf],\n",
       "       [inf, inf, inf, inf, inf],\n",
       "       [inf, inf, inf, inf, inf]])"
      ]
     },
     "execution_count": 49,
     "metadata": {},
     "output_type": "execute_result"
    }
   ],
   "source": [
    "x/0"
   ]
  },
  {
   "cell_type": "code",
   "execution_count": 50,
   "id": "214974b7",
   "metadata": {},
   "outputs": [
    {
     "data": {
      "text/plain": [
       "array([[7225, 1936,  529, 7396, 1681],\n",
       "       [  49, 2809, 2025, 1089, 8649],\n",
       "       [9025, 3364, 2116,  676,  676],\n",
       "       [9409,   16, 9216,  169, 7056],\n",
       "       [ 324,  625, 3136, 1936, 4356]])"
      ]
     },
     "execution_count": 50,
     "metadata": {},
     "output_type": "execute_result"
    }
   ],
   "source": [
    "x**2"
   ]
  },
  {
   "cell_type": "code",
   "execution_count": 52,
   "id": "6a536d84",
   "metadata": {},
   "outputs": [
    {
     "data": {
      "text/plain": [
       "array([[1162028366,  682758925,  949930398,  814291371, 1091346612],\n",
       "       [ 831840532,  502554284,  691567922,  586904694,  795922782],\n",
       "       [1014755994,  601489482,  839164779,  713455855,  959244013],\n",
       "       [1172346778,  691158925,  962621447,  827432740, 1105002831],\n",
       "       [ 802219710,  476376640,  662821402,  564913164,  765594262]])"
      ]
     },
     "execution_count": 52,
     "metadata": {},
     "output_type": "execute_result"
    }
   ],
   "source": [
    "x@x@x@x"
   ]
  },
  {
   "cell_type": "code",
   "execution_count": 57,
   "id": "4f430bc5",
   "metadata": {},
   "outputs": [],
   "source": [
    "y = np.zeros((3,4))"
   ]
  },
  {
   "cell_type": "code",
   "execution_count": 58,
   "id": "435f8aed",
   "metadata": {},
   "outputs": [],
   "source": [
    "a = np.array([1,2,3,7])"
   ]
  },
  {
   "cell_type": "code",
   "execution_count": 59,
   "id": "ec78eda6",
   "metadata": {},
   "outputs": [
    {
     "data": {
      "text/plain": [
       "array([[1., 2., 3., 7.],\n",
       "       [1., 2., 3., 7.],\n",
       "       [1., 2., 3., 7.]])"
      ]
     },
     "execution_count": 59,
     "metadata": {},
     "output_type": "execute_result"
    }
   ],
   "source": [
    "y + a"
   ]
  },
  {
   "cell_type": "code",
   "execution_count": 74,
   "id": "a9a52e64",
   "metadata": {},
   "outputs": [],
   "source": [
    "b = np.array([[5,6,7]])"
   ]
  },
  {
   "cell_type": "code",
   "execution_count": 75,
   "id": "a529449c",
   "metadata": {},
   "outputs": [
    {
     "data": {
      "text/plain": [
       "array([[5, 6, 7]])"
      ]
     },
     "execution_count": 75,
     "metadata": {},
     "output_type": "execute_result"
    }
   ],
   "source": [
    "b"
   ]
  },
  {
   "cell_type": "code",
   "execution_count": 76,
   "id": "704496f4",
   "metadata": {},
   "outputs": [
    {
     "data": {
      "text/plain": [
       "(1, 3)"
      ]
     },
     "execution_count": 76,
     "metadata": {},
     "output_type": "execute_result"
    }
   ],
   "source": [
    "b.shape"
   ]
  },
  {
   "cell_type": "code",
   "execution_count": 77,
   "id": "c0bb2ea8",
   "metadata": {},
   "outputs": [
    {
     "data": {
      "text/plain": [
       "array([[5., 5., 5., 5.],\n",
       "       [6., 6., 6., 6.],\n",
       "       [7., 7., 7., 7.]])"
      ]
     },
     "execution_count": 77,
     "metadata": {},
     "output_type": "execute_result"
    }
   ],
   "source": [
    "b.reshape(3,1) + y"
   ]
  },
  {
   "cell_type": "code",
   "execution_count": 78,
   "id": "1ed2dd51",
   "metadata": {},
   "outputs": [
    {
     "data": {
      "text/plain": [
       "array([[5, 6, 7]])"
      ]
     },
     "execution_count": 78,
     "metadata": {},
     "output_type": "execute_result"
    }
   ],
   "source": [
    "b"
   ]
  },
  {
   "cell_type": "code",
   "execution_count": 80,
   "id": "460bbea6",
   "metadata": {},
   "outputs": [
    {
     "data": {
      "text/plain": [
       "array([[5., 5., 5., 5.],\n",
       "       [6., 6., 6., 6.],\n",
       "       [7., 7., 7., 7.]])"
      ]
     },
     "execution_count": 80,
     "metadata": {},
     "output_type": "execute_result"
    }
   ],
   "source": [
    "b.T +y"
   ]
  },
  {
   "cell_type": "code",
   "execution_count": 85,
   "id": "840bf9ca",
   "metadata": {},
   "outputs": [],
   "source": [
    "arr = np.random.randint(4,100,(5,5))"
   ]
  },
  {
   "cell_type": "code",
   "execution_count": 86,
   "id": "ea314aab",
   "metadata": {},
   "outputs": [
    {
     "data": {
      "text/plain": [
       "array([[48, 23, 16, 34, 89],\n",
       "       [39, 36, 38, 90, 34],\n",
       "       [31, 30, 10, 75, 98],\n",
       "       [42, 13, 35, 67, 95],\n",
       "       [67, 61, 73, 37, 44]])"
      ]
     },
     "execution_count": 86,
     "metadata": {},
     "output_type": "execute_result"
    }
   ],
   "source": [
    "arr"
   ]
  },
  {
   "cell_type": "code",
   "execution_count": 88,
   "id": "eff84dfd",
   "metadata": {},
   "outputs": [
    {
     "data": {
      "text/plain": [
       "array([[5.5849625 , 4.52356196, 4.        , 5.08746284, 6.47573343],\n",
       "       [5.28540222, 5.169925  , 5.24792751, 6.4918531 , 5.08746284],\n",
       "       [4.95419631, 4.9068906 , 3.32192809, 6.22881869, 6.61470984],\n",
       "       [5.39231742, 3.70043972, 5.12928302, 6.06608919, 6.56985561],\n",
       "       [6.06608919, 5.93073734, 6.18982456, 5.20945337, 5.45943162]])"
      ]
     },
     "execution_count": 88,
     "metadata": {},
     "output_type": "execute_result"
    }
   ],
   "source": [
    "np.log2(arr)"
   ]
  },
  {
   "cell_type": "code",
   "execution_count": null,
   "id": "4ff9f919",
   "metadata": {},
   "outputs": [],
   "source": []
  }
 ],
 "metadata": {
  "kernelspec": {
   "name": "python3",
   "display_name": "Python 3.8.10 64-bit"
  },
  "language_info": {
   "codemirror_mode": {
    "name": "ipython",
    "version": 3
   },
   "file_extension": ".py",
   "mimetype": "text/x-python",
   "name": "python",
   "nbconvert_exporter": "python",
   "pygments_lexer": "ipython3",
   "version": "3.8.10"
  },
  "interpreter": {
   "hash": "916dbcbb3f70747c44a77c7bcd40155683ae19c65e1c03b4aa3499c5328201f1"
  }
 },
 "nbformat": 4,
 "nbformat_minor": 5
}